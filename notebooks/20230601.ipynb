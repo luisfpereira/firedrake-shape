{
 "cells": [
  {
   "cell_type": "code",
   "execution_count": null,
   "id": "31f65829",
   "metadata": {
    "scrolled": true
   },
   "outputs": [],
   "source": [
    "from matplotlib import pyplot as plt\n",
    "\n",
    "from firedrake import *"
   ]
  },
  {
   "cell_type": "code",
   "execution_count": null,
   "id": "9b4b7e58",
   "metadata": {},
   "outputs": [],
   "source": []
  },
  {
   "cell_type": "code",
   "execution_count": null,
   "id": "e48fcb7c",
   "metadata": {},
   "outputs": [],
   "source": [
    "n = 10\n",
    "\n",
    "mesh = PeriodicUnitSquareMesh(nx=n, ny=n)\n",
    "\n",
    "# triplot(mesh)"
   ]
  },
  {
   "cell_type": "code",
   "execution_count": null,
   "id": "c23c4854",
   "metadata": {
    "scrolled": true
   },
   "outputs": [],
   "source": [
    "WX = FunctionSpace(mesh, \"WXRobH3NC\", degree=7)\n",
    "\n",
    "V = FunctionSpace(mesh, \"CG\", 1)"
   ]
  },
  {
   "cell_type": "code",
   "execution_count": null,
   "id": "0ae6b1f8",
   "metadata": {},
   "outputs": [],
   "source": [
    "v, u = TrialFunction(WX), TestFunction(WX)"
   ]
  },
  {
   "cell_type": "code",
   "execution_count": null,
   "id": "d90ca0bd",
   "metadata": {},
   "outputs": [],
   "source": [
    "chi = Function(V)"
   ]
  },
  {
   "cell_type": "code",
   "execution_count": null,
   "id": "379c9899",
   "metadata": {},
   "outputs": [],
   "source": [
    "x, y = SpatialCoordinate(mesh)\n",
    "# expr = cos(2*pi*x) + sin(6*pi*x)\n",
    "# expr = cos(2*pi*x)\n",
    "expr = cos(2*pi*x) + sin(2*pi*y)\n",
    "\n",
    "chi = interpolate(expr, V)\n",
    "\n",
    "tricontourf(chi)"
   ]
  },
  {
   "cell_type": "code",
   "execution_count": null,
   "id": "8b9d864c",
   "metadata": {},
   "outputs": [],
   "source": [
    "a = (\n",
    "    -inner(Dx(Dx(Dx(v, 0), 0), 0), Dx(Dx(Dx(u, 0), 0), 0))\n",
    "    - 3 * inner(Dx(Dx(Dx(v, 1), 0), 0), Dx(Dx(Dx(u, 1), 0), 0))\n",
    "    - 3 * inner(Dx(Dx(Dx(v, 0), 1), 1), Dx(Dx(Dx(u, 0), 1), 1))\n",
    "    - inner(Dx(Dx(Dx(v, 1), 1), 1), Dx(Dx(Dx(u, 1), 1), 1))\n",
    ")*dx\n",
    "\n",
    "L = inner(chi, u)*dx"
   ]
  },
  {
   "cell_type": "code",
   "execution_count": null,
   "id": "fb869931",
   "metadata": {},
   "outputs": [],
   "source": [
    "res = Function(WX, name=\"field\")\n",
    "\n",
    "solve(a == L, res)\n"
   ]
  },
  {
   "cell_type": "code",
   "execution_count": null,
   "id": "4a07ac89",
   "metadata": {},
   "outputs": [],
   "source": [
    "x, y = SpatialCoordinate(mesh)\n",
    "# expr = cos(2*pi*x)* 1 / (1 - 3*2*pi + 3*(2*pi)**2 - (2*pi)**3)\n",
    "# expr = -cos(2*pi*x)* 1 / ((2*pi)**6)\n",
    "expr = -expr /  ((2*pi)**6)\n",
    "\n",
    "\n",
    "sol = Function(V, name=\"field\")\n",
    "sol.interpolate(expr)"
   ]
  },
  {
   "cell_type": "code",
   "execution_count": null,
   "id": "e7a891b4",
   "metadata": {
    "scrolled": false
   },
   "outputs": [],
   "source": [
    "fix, ax = plt.subplots(1, 2, figsize=(8, 4))\n",
    "    \n",
    "l = tricontourf(res, axes=ax[0])\n",
    "plt.colorbar(l)\n",
    "\n",
    "l2 = tricontourf(sol, axes=ax[1])\n",
    "plt.colorbar(l2)"
   ]
  },
  {
   "cell_type": "code",
   "execution_count": null,
   "id": "cfe090e5",
   "metadata": {},
   "outputs": [],
   "source": [
    "outfile = File(\"output.pvd\", target_degree=1)\n",
    "# outfile = File(\"output.pvd\")\n",
    "\n",
    "\n",
    "outfile.write(res)"
   ]
  },
  {
   "cell_type": "code",
   "execution_count": null,
   "id": "fadb3d3b",
   "metadata": {},
   "outputs": [],
   "source": [
    "outfile = File(\"output_expected.pvd\", target_degree=1)\n",
    "# outfile = File(\"output_expected.pvd\")\n",
    "\n",
    "outfile.write(sol)"
   ]
  },
  {
   "cell_type": "code",
   "execution_count": null,
   "id": "82f3550b",
   "metadata": {},
   "outputs": [],
   "source": []
  },
  {
   "cell_type": "code",
   "execution_count": null,
   "id": "f6415c14",
   "metadata": {},
   "outputs": [],
   "source": [
    "type(sol)"
   ]
  }
 ],
 "metadata": {
  "kernelspec": {
   "display_name": "Python 3 (ipykernel)",
   "language": "python",
   "name": "python3"
  },
  "language_info": {
   "codemirror_mode": {
    "name": "ipython",
    "version": 3
   },
   "file_extension": ".py",
   "mimetype": "text/x-python",
   "name": "python",
   "nbconvert_exporter": "python",
   "pygments_lexer": "ipython3",
   "version": "3.10.6"
  }
 },
 "nbformat": 4,
 "nbformat_minor": 5
}
