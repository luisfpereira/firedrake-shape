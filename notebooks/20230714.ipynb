{
 "cells": [
  {
   "cell_type": "code",
   "execution_count": null,
   "id": "99401e00",
   "metadata": {},
   "outputs": [],
   "source": [
    "from matplotlib import pyplot as plt\n",
    "import numpy as np\n",
    "\n",
    "from firedrake import *"
   ]
  },
  {
   "cell_type": "code",
   "execution_count": null,
   "id": "f3e3c4db",
   "metadata": {},
   "outputs": [],
   "source": [
    "mask = np.load(\"data/filled/1.npy\")\n",
    "\n",
    "mask.shape"
   ]
  },
  {
   "cell_type": "code",
   "execution_count": null,
   "id": "6d756533",
   "metadata": {
    "scrolled": true
   },
   "outputs": [],
   "source": [
    "plt.matshow(mask)"
   ]
  },
  {
   "cell_type": "code",
   "execution_count": null,
   "id": "25954aa4",
   "metadata": {},
   "outputs": [],
   "source": [
    "def create_grid(n):\n",
    "    # assumes periodic mesh\n",
    "    step = 1/n\n",
    "    x = np.arange(0.,  1., step)\n",
    "    return np.stack(\n",
    "        np.meshgrid(x, x),\n",
    "        axis=-1\n",
    ")\n",
    "\n",
    "grid = create_grid(mask.shape[0]).reshape(-1, 2)\n",
    "grid[:, 1] = np.flip(grid[:, 1])"
   ]
  },
  {
   "cell_type": "code",
   "execution_count": null,
   "id": "db054dc4",
   "metadata": {},
   "outputs": [],
   "source": [
    "n = mask.shape[0]\n",
    "\n",
    "mesh = PeriodicUnitSquareMesh(nx=n, ny=n)"
   ]
  },
  {
   "cell_type": "code",
   "execution_count": null,
   "id": "6956de11",
   "metadata": {},
   "outputs": [],
   "source": [
    "WX = FunctionSpace(mesh, \"WXRobH3NC\", degree=7)\n",
    "\n",
    "V = FunctionSpace(mesh, \"CG\", 1)"
   ]
  },
  {
   "cell_type": "code",
   "execution_count": null,
   "id": "b640e95b",
   "metadata": {},
   "outputs": [],
   "source": [
    "m = V.ufl_domain()\n",
    "W = VectorFunctionSpace(m, V.ufl_element())\n",
    "\n",
    "X = interpolate(m.coordinates, W)\n",
    "\n",
    "mesh_coords = X.dat.data"
   ]
  },
  {
   "cell_type": "code",
   "execution_count": null,
   "id": "3d74b300",
   "metadata": {},
   "outputs": [],
   "source": [
    "def hash_np(coords, digits=6):\n",
    "    return tuple(np.round(coords, digits))\n",
    "\n",
    "def create_hashmap(mesh_coords, digits=6):\n",
    "    hashmap = {hash_np(mesh_coords_, digits): index for index, mesh_coords_ in enumerate(mesh_coords)}\n",
    "    hashmap[\"hash_func\"] = lambda x: hash_np(x, digits)\n",
    "    return hashmap\n",
    "\n",
    "def get_chi(data, mask, grid, hashmap):\n",
    "    flatten_mask = mask.flatten()\n",
    "    vals = np.zeros(data.shape[0], dtype=int)\n",
    "\n",
    "    indices, = np.where(flatten_mask == 1)\n",
    "    \n",
    "    hash_func = hashmap[\"hash_func\"]\n",
    "    \n",
    "    for index in indices:\n",
    "        mesh_coords_ = grid[index]\n",
    "        hashed_coords = hash_func(mesh_coords_)\n",
    "        vals[hashmap[hashed_coords]] = 1\n",
    "    \n",
    "    return vals"
   ]
  },
  {
   "cell_type": "code",
   "execution_count": null,
   "id": "09a0f149",
   "metadata": {},
   "outputs": [],
   "source": [
    "hashmap = create_hashmap(mesh_coords)"
   ]
  },
  {
   "cell_type": "code",
   "execution_count": null,
   "id": "df5ebab3",
   "metadata": {
    "scrolled": true
   },
   "outputs": [],
   "source": [
    "data =  get_chi(mesh_coords, mask, grid, hashmap)"
   ]
  },
  {
   "cell_type": "code",
   "execution_count": null,
   "id": "cd8ebeab",
   "metadata": {},
   "outputs": [],
   "source": [
    "chi = Function(V)\n",
    "\n",
    "chi.dat.data[:] = data\n",
    "\n",
    "tricontourf(chi)"
   ]
  },
  {
   "cell_type": "code",
   "execution_count": null,
   "id": "35256479",
   "metadata": {},
   "outputs": [],
   "source": []
  },
  {
   "cell_type": "code",
   "execution_count": null,
   "id": "2a5a56ca",
   "metadata": {},
   "outputs": [],
   "source": [
    "v, u = TrialFunction(WX), TestFunction(WX)"
   ]
  },
  {
   "cell_type": "code",
   "execution_count": null,
   "id": "30e613e5",
   "metadata": {},
   "outputs": [],
   "source": [
    "a = inner(v, u)*dx - (\n",
    "    -inner(Dx(Dx(Dx(v, 0), 0), 0), Dx(Dx(Dx(u, 0), 0), 0))\n",
    "    - 3 * inner(Dx(Dx(Dx(v, 1), 0), 0), Dx(Dx(Dx(u, 1), 0), 0))\n",
    "    - 3 * inner(Dx(Dx(Dx(v, 0), 1), 1), Dx(Dx(Dx(u, 0), 1), 1))\n",
    "    - inner(Dx(Dx(Dx(v, 1), 1), 1), Dx(Dx(Dx(u, 1), 1), 1))\n",
    ")*dx\n",
    "\n",
    "L = inner(chi, u)*dx"
   ]
  },
  {
   "cell_type": "code",
   "execution_count": null,
   "id": "ca4ea90d",
   "metadata": {},
   "outputs": [],
   "source": []
  },
  {
   "cell_type": "code",
   "execution_count": null,
   "id": "af7c03f9",
   "metadata": {},
   "outputs": [],
   "source": [
    "res = Function(WX, name=\"field\")\n",
    "\n",
    "solve(a == L, res)\n"
   ]
  },
  {
   "cell_type": "code",
   "execution_count": null,
   "id": "874afad3",
   "metadata": {},
   "outputs": [],
   "source": [
    "res.dat.data.sum()"
   ]
  },
  {
   "cell_type": "code",
   "execution_count": null,
   "id": "64626094",
   "metadata": {},
   "outputs": [],
   "source": [
    "l = tricontourf(res)\n",
    "\n",
    "plt.colorbar(l)\n"
   ]
  }
 ],
 "metadata": {
  "kernelspec": {
   "display_name": "Python 3 (ipykernel)",
   "language": "python",
   "name": "python3"
  },
  "language_info": {
   "codemirror_mode": {
    "name": "ipython",
    "version": 3
   },
   "file_extension": ".py",
   "mimetype": "text/x-python",
   "name": "python",
   "nbconvert_exporter": "python",
   "pygments_lexer": "ipython3",
   "version": "3.10.6"
  }
 },
 "nbformat": 4,
 "nbformat_minor": 5
}
