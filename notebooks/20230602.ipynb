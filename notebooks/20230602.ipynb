{
 "cells": [
  {
   "cell_type": "code",
   "execution_count": null,
   "id": "31f65829",
   "metadata": {
    "scrolled": true
   },
   "outputs": [],
   "source": [
    "from matplotlib import pyplot as plt\n",
    "import numpy as np\n",
    "\n",
    "from firedrake import *\n",
    "\n"
   ]
  },
  {
   "cell_type": "code",
   "execution_count": null,
   "id": "9b4b7e58",
   "metadata": {},
   "outputs": [],
   "source": [
    "mask = np.load(\"data/filled/1.npy\")\n",
    "\n",
    "# mask[:, -1] = 0\n",
    "\n",
    "mask"
   ]
  },
  {
   "cell_type": "code",
   "execution_count": null,
   "id": "9aeb9f7c",
   "metadata": {},
   "outputs": [],
   "source": []
  },
  {
   "cell_type": "code",
   "execution_count": null,
   "id": "e48fcb7c",
   "metadata": {},
   "outputs": [],
   "source": [
    "n = mask.shape[0]\n",
    "\n",
    "mesh = PeriodicUnitSquareMesh(nx=n, ny=n)\n",
    "\n",
    "# triplot(mesh)"
   ]
  },
  {
   "cell_type": "code",
   "execution_count": null,
   "id": "c23c4854",
   "metadata": {
    "scrolled": true
   },
   "outputs": [],
   "source": [
    "WX = FunctionSpace(mesh, \"WXRobH3NC\", degree=7)\n",
    "\n",
    "V = FunctionSpace(mesh, \"CG\", 1)"
   ]
  },
  {
   "cell_type": "code",
   "execution_count": null,
   "id": "d6f0c153",
   "metadata": {
    "scrolled": true
   },
   "outputs": [],
   "source": [
    "m = V.ufl_domain()\n",
    "W = VectorFunctionSpace(m, V.ufl_element())\n",
    "\n",
    "X = interpolate(m.coordinates, W)\n",
    "\n",
    "mesh_coords = X.dat.data"
   ]
  },
  {
   "cell_type": "code",
   "execution_count": null,
   "id": "e571432d",
   "metadata": {},
   "outputs": [],
   "source": [
    "def create_grid(n):\n",
    "    # assumes periodic mesh\n",
    "    return np.stack(\n",
    "        np.meshgrid(np.linspace(1/n, 1., n), np.linspace(1/n, 1., n)),\n",
    "        axis=-1\n",
    ")\n",
    "\n",
    "\n",
    "def get_nonzero_indices(grid_ones, mesh_coords):\n",
    "    indices = []\n",
    "    for k, coords in enumerate(grid_ones):\n",
    "        print(k)\n",
    "        for index, mesh_coords_ in enumerate(mesh_coords):\n",
    "            if np.allclose(coords, mesh_coords_):\n",
    "                indices.append(index)\n",
    "                break\n",
    "        else:\n",
    "            raise ValueError(\"Something went wrong\")\n",
    "            \n",
    "    return indices\n",
    "            \n",
    "    \n",
    "def mask_to_vector(V, mask):\n",
    "    # assume \n",
    "    m = V.ufl_domain()\n",
    "    W = VectorFunctionSpace(m, V.ufl_element())\n",
    "\n",
    "    X = interpolate(m.coordinates, W)\n",
    "\n",
    "    mesh_coords = X.dat.data\n",
    "    n = int(np.sqrt(V.mesh().size(0)))\n",
    "    \n",
    "    grid = create_grid(n)\n",
    "    grid_ones = grid[np.nonzero(mask)]\n",
    "    print(len(grid_ones))\n",
    "    \n",
    "    indices = get_nonzero_indices(grid_ones, mesh_coords)\n",
    "    \n",
    "    data = np.zeros(mesh_coords.shape[0])\n",
    "    \n",
    "    data[indices] = 1.\n",
    "    \n",
    "    return data\n",
    "\n",
    "        "
   ]
  },
  {
   "cell_type": "code",
   "execution_count": null,
   "id": "72b709ad",
   "metadata": {},
   "outputs": [],
   "source": [
    "chi = Function(V)\n",
    "\n",
    "data = mask_to_vector(V, mask)"
   ]
  },
  {
   "cell_type": "code",
   "execution_count": null,
   "id": "a4ae8bfd",
   "metadata": {
    "scrolled": false
   },
   "outputs": [],
   "source": [
    "# chi = Function(V)\n",
    "# data = mask_to_vector(V, mask)\n",
    "\n",
    "chi.dat.data[:] = data.flatten()\n",
    "\n",
    "tricontourf(chi)\n",
    "\n"
   ]
  },
  {
   "cell_type": "code",
   "execution_count": null,
   "id": "9bfd840c",
   "metadata": {},
   "outputs": [],
   "source": []
  },
  {
   "cell_type": "code",
   "execution_count": null,
   "id": "0ae6b1f8",
   "metadata": {},
   "outputs": [],
   "source": [
    "v, u = TrialFunction(WX), TestFunction(WX)"
   ]
  },
  {
   "cell_type": "code",
   "execution_count": null,
   "id": "7b3e4372",
   "metadata": {},
   "outputs": [],
   "source": [
    "# m = V.ufl_domain()\n",
    "# W = VectorFunctionSpace(m, V.ufl_element())\n",
    "\n",
    "# X = interpolate(m.coordinates, W)\n",
    "\n",
    "\n",
    "# def create_square(coords, x_min=0.4, x_max=0.6, y_min=0.4, y_max=0.6):\n",
    "#     A = np.zeros(coords.shape[0])\n",
    "    \n",
    "#     idx = np.logical_and(\n",
    "#         np.logical_and(\n",
    "#             coords[:, 0] > x_min, \n",
    "#             coords[:, 0] < x_max,\n",
    "#         ),\n",
    "#         np.logical_and(\n",
    "#         coords[:, 1] > y_min,\n",
    "#         coords[:, 1] < y_max,\n",
    "#         )\n",
    "#     )\n",
    "\n",
    "#     A[idx] = 1.\n",
    "    \n",
    "#     return A\n",
    "\n",
    "\n",
    "\n",
    "# chi = Function(V)\n",
    "# chi.dat.data[:] = create_square(X.dat.data_ro)\n",
    "\n",
    "# tricontourf(chi)"
   ]
  },
  {
   "cell_type": "code",
   "execution_count": null,
   "id": "86d159b6",
   "metadata": {},
   "outputs": [],
   "source": []
  },
  {
   "cell_type": "code",
   "execution_count": null,
   "id": "379c9899",
   "metadata": {},
   "outputs": [],
   "source": [
    "# x, y = SpatialCoordinate(mesh)\n",
    "# # expr = cos(2*pi*x) + sin(6*pi*x)\n",
    "# # expr = cos(2*pi*x)\n",
    "# expr = cos(2*pi*x) + sin(2*pi*y)\n",
    "\n",
    "# chi = interpolate(expr, V)\n",
    "\n",
    "# tricontourf(chi)"
   ]
  },
  {
   "cell_type": "code",
   "execution_count": null,
   "id": "8f72bbf0",
   "metadata": {},
   "outputs": [],
   "source": []
  },
  {
   "cell_type": "code",
   "execution_count": null,
   "id": "8b9d864c",
   "metadata": {},
   "outputs": [],
   "source": [
    "a = inner(v, u)*dx - (\n",
    "    -inner(Dx(Dx(Dx(v, 0), 0), 0), Dx(Dx(Dx(u, 0), 0), 0))\n",
    "    - 3 * inner(Dx(Dx(Dx(v, 1), 0), 0), Dx(Dx(Dx(u, 1), 0), 0))\n",
    "    - 3 * inner(Dx(Dx(Dx(v, 0), 1), 1), Dx(Dx(Dx(u, 0), 1), 1))\n",
    "    - inner(Dx(Dx(Dx(v, 1), 1), 1), Dx(Dx(Dx(u, 1), 1), 1))\n",
    ")*dx\n",
    "\n",
    "L = inner(chi, u)*dx"
   ]
  },
  {
   "cell_type": "code",
   "execution_count": null,
   "id": "fb869931",
   "metadata": {},
   "outputs": [],
   "source": [
    "res = Function(WX, name=\"field\")\n",
    "\n",
    "solve(a == L, res)\n"
   ]
  },
  {
   "cell_type": "code",
   "execution_count": null,
   "id": "2e13db12",
   "metadata": {},
   "outputs": [],
   "source": [
    "res.dat.data.sum()"
   ]
  },
  {
   "cell_type": "code",
   "execution_count": null,
   "id": "5495edbb",
   "metadata": {},
   "outputs": [],
   "source": [
    "l = tricontourf(res)\n",
    "plt.colorbar(l)\n"
   ]
  },
  {
   "cell_type": "code",
   "execution_count": null,
   "id": "80c76df9",
   "metadata": {},
   "outputs": [],
   "source": [
    "chi.dat.data_ro"
   ]
  },
  {
   "cell_type": "code",
   "execution_count": null,
   "id": "4a07ac89",
   "metadata": {},
   "outputs": [],
   "source": [
    "x, y = SpatialCoordinate(mesh)\n",
    "# expr = cos(2*pi*x)* 1 / (1 - 3*2*pi + 3*(2*pi)**2 - (2*pi)**3)\n",
    "# expr = -cos(2*pi*x)* 1 / ((2*pi)**6)\n",
    "expr = -expr /  ((2*pi)**6)\n",
    "\n",
    "\n",
    "sol = Function(V, name=\"field\")\n",
    "sol.interpolate(expr)"
   ]
  },
  {
   "cell_type": "code",
   "execution_count": null,
   "id": "e7a891b4",
   "metadata": {
    "scrolled": false
   },
   "outputs": [],
   "source": [
    "fig, ax = plt.subplots(1, 2, figsize=(8, 4))\n",
    "    \n",
    "l = tricontourf(res, axes=ax[0])\n",
    "plt.colorbar(l)\n",
    "\n",
    "# l2 = tricontourf(sol, axes=ax[1])\n",
    "# plt.colorbar(l2)"
   ]
  },
  {
   "cell_type": "code",
   "execution_count": null,
   "id": "cfe090e5",
   "metadata": {},
   "outputs": [],
   "source": [
    "outfile = File(\"output.pvd\", target_degree=1)\n",
    "# outfile = File(\"output.pvd\")\n",
    "\n",
    "\n",
    "outfile.write(res)"
   ]
  },
  {
   "cell_type": "code",
   "execution_count": null,
   "id": "fadb3d3b",
   "metadata": {},
   "outputs": [],
   "source": [
    "outfile = File(\"output_expected.pvd\", target_degree=1)\n",
    "# outfile = File(\"output_expected.pvd\")\n",
    "\n",
    "outfile.write(sol)"
   ]
  },
  {
   "cell_type": "code",
   "execution_count": null,
   "id": "82f3550b",
   "metadata": {},
   "outputs": [],
   "source": []
  },
  {
   "cell_type": "code",
   "execution_count": null,
   "id": "f6415c14",
   "metadata": {},
   "outputs": [],
   "source": [
    "type(sol)"
   ]
  }
 ],
 "metadata": {
  "kernelspec": {
   "display_name": "Python 3 (ipykernel)",
   "language": "python",
   "name": "python3"
  },
  "language_info": {
   "codemirror_mode": {
    "name": "ipython",
    "version": 3
   },
   "file_extension": ".py",
   "mimetype": "text/x-python",
   "name": "python",
   "nbconvert_exporter": "python",
   "pygments_lexer": "ipython3",
   "version": "3.10.6"
  }
 },
 "nbformat": 4,
 "nbformat_minor": 5
}
